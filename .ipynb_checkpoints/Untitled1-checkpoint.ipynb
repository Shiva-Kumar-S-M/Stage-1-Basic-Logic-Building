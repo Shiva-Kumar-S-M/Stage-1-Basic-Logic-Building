{
 "cells": [
  {
   "cell_type": "code",
   "execution_count": 1,
   "id": "c06a8967-0577-4edf-9a84-c1fa3e8d06bc",
   "metadata": {},
   "outputs": [
    {
     "name": "stdout",
     "output_type": "stream",
     "text": [
      "Requirement already satisfied: pillow in c:\\users\\shiva kumar\\appdata\\local\\programs\\python\\python313\\lib\\site-packages (11.3.0)\n",
      "Requirement already satisfied: opencv-python in c:\\users\\shiva kumar\\appdata\\local\\programs\\python\\python313\\lib\\site-packages (4.12.0.88)\n",
      "Requirement already satisfied: numpy in c:\\users\\shiva kumar\\appdata\\local\\programs\\python\\python313\\lib\\site-packages (2.2.6)\n",
      "Requirement already satisfied: tqdm in c:\\users\\shiva kumar\\appdata\\local\\programs\\python\\python313\\lib\\site-packages (4.67.1)\n",
      "Requirement already satisfied: colorama in c:\\users\\shiva kumar\\appdata\\local\\programs\\python\\python313\\lib\\site-packages (from tqdm) (0.4.6)\n"
     ]
    }
   ],
   "source": [
    "!pip install pillow opencv-python numpy tqdm\n"
   ]
  },
  {
   "cell_type": "code",
   "execution_count": 2,
   "id": "1c6329d5-3b85-4923-8f4f-0d9dc3a56551",
   "metadata": {},
   "outputs": [],
   "source": [
    "import os\n",
    "import cv2\n",
    "import numpy as np\n",
    "from PIL import Image\n",
    "from tqdm import tqdm\n",
    "import hashlib\n"
   ]
  },
  {
   "cell_type": "code",
   "execution_count": 7,
   "id": "da01bbe9-9882-456e-9570-c107526cc47b",
   "metadata": {},
   "outputs": [],
   "source": [
    "# Folder containing your raw PNG images\n",
    "input_folder = r\"D:\\archive\\images\\images_normalized\"\n",
    "\n",
    "# Folder where cleaned images will be saved\n",
    "output_folder = r\"D:\\cleaned_images\"\n",
    "\n",
    "# Create output folder if not exists\n",
    "os.makedirs(output_folder, exist_ok=True)\n"
   ]
  },
  {
   "cell_type": "code",
   "execution_count": 8,
   "id": "4413ef35-855f-43de-8172-450662f43a5b",
   "metadata": {},
   "outputs": [],
   "source": [
    "def is_valid_image(filepath):\n",
    "    try:\n",
    "        img = Image.open(filepath)\n",
    "        img.verify()\n",
    "        return True\n",
    "    except:\n",
    "        return False\n"
   ]
  },
  {
   "cell_type": "code",
   "execution_count": 9,
   "id": "174bb7a0-8d51-47db-bef0-4c3b94f277fb",
   "metadata": {},
   "outputs": [],
   "source": [
    "def get_image_hash(filepath):\n",
    "    try:\n",
    "        with Image.open(filepath) as img:\n",
    "            img = img.resize((64, 64)).convert(\"L\")  # Resize + grayscale for hashing\n",
    "            return hashlib.md5(img.tobytes()).hexdigest()\n",
    "    except:\n",
    "        return None\n"
   ]
  },
  {
   "cell_type": "code",
   "execution_count": null,
   "id": "44ffab76-d31f-4240-bb61-f71d69fc8833",
   "metadata": {},
   "outputs": [],
   "source": []
  }
 ],
 "metadata": {
  "kernelspec": {
   "display_name": "Python 3 (ipykernel)",
   "language": "python",
   "name": "python3"
  },
  "language_info": {
   "codemirror_mode": {
    "name": "ipython",
    "version": 3
   },
   "file_extension": ".py",
   "mimetype": "text/x-python",
   "name": "python",
   "nbconvert_exporter": "python",
   "pygments_lexer": "ipython3",
   "version": "3.13.0"
  }
 },
 "nbformat": 4,
 "nbformat_minor": 5
}

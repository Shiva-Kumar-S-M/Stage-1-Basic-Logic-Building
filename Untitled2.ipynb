{
 "cells": [
  {
   "cell_type": "code",
   "execution_count": 4,
   "id": "b87e497f-8755-4771-99f5-8e555408c20f",
   "metadata": {},
   "outputs": [
    {
     "name": "stderr",
     "output_type": "stream",
     "text": [
      "WARNING:absl:Compiled the loaded model, but the compiled metrics have yet to be built. `model.compile_metrics` will be empty until you train or evaluate the model.\n"
     ]
    }
   ],
   "source": [
    "from tensorflow.keras.models import load_model\n",
    "\n",
    "# Load your trained pneumonia prediction model\n",
    "model = load_model(\"CNN_model.h5\")\n"
   ]
  },
  {
   "cell_type": "code",
   "execution_count": 6,
   "id": "c109a524-fb7a-4db6-aa99-fdc18978c0f2",
   "metadata": {},
   "outputs": [
    {
     "name": "stderr",
     "output_type": "stream",
     "text": [
      "WARNING:absl:Compiled the loaded model, but the compiled metrics have yet to be built. `model.compile_metrics` will be empty until you train or evaluate the model.\n"
     ]
    },
    {
     "name": "stdout",
     "output_type": "stream",
     "text": [
      "\u001b[1m1/1\u001b[0m \u001b[32m━━━━━━━━━━━━━━━━━━━━\u001b[0m\u001b[37m\u001b[0m \u001b[1m1s\u001b[0m 863ms/step\n",
      "⚠️ Pneumonia Detected\n"
     ]
    }
   ],
   "source": [
    "import numpy as np\n",
    "from tensorflow.keras.models import load_model\n",
    "from tensorflow.keras.preprocessing import image\n",
    "\n",
    "# Load model\n",
    "model = load_model(\"CNN_model.h5\")\n",
    "\n",
    "# Get input size automatically\n",
    "IMG_SIZE = model.input_shape[1]\n",
    "\n",
    "# Check your class mapping\n",
    "# Make sure this matches your training data\n",
    "CLASS_MAPPING = {0: \"PNEUMONIA\", 1: \"NORMAL\"}  # <-- Change if needed\n",
    "\n",
    "def predict_pneumonia(img_path):\n",
    "    # Preprocess image\n",
    "    img = image.load_img(img_path, target_size=(IMG_SIZE, IMG_SIZE))\n",
    "    img_array = image.img_to_array(img)\n",
    "    img_array = np.expand_dims(img_array, axis=0)\n",
    "    img_array = img_array / 255.0  # Use only if you used rescale=1./255 in training\n",
    "\n",
    "    # Predict\n",
    "    prediction = model.predict(img_array)\n",
    "\n",
    "    # Interpret result based on your class indices\n",
    "    if prediction[0][0] < 0.5:  # Adjust threshold if inverted\n",
    "        print(\"⚠️ Pneumonia Detected\")\n",
    "    else:\n",
    "        print(\"✅ No Pneumonia Detected\")\n",
    "\n",
    "# Test with a known pneumonia image\n",
    "predict_pneumonia(r\"D:\\Project\\Chest X-Ray Images(Pneumonia)\\chest_xray\\train\\PNEUMONIA\\person23_bacteria_78.jpeg\")\n"
   ]
  },
  {
   "cell_type": "code",
   "execution_count": null,
   "id": "3dc25f23-25f8-499a-9348-99a11ed303f5",
   "metadata": {},
   "outputs": [],
   "source": []
  }
 ],
 "metadata": {
  "kernelspec": {
   "display_name": "Python 3 (ipykernel)",
   "language": "python",
   "name": "python3"
  },
  "language_info": {
   "codemirror_mode": {
    "name": "ipython",
    "version": 3
   },
   "file_extension": ".py",
   "mimetype": "text/x-python",
   "name": "python",
   "nbconvert_exporter": "python",
   "pygments_lexer": "ipython3",
   "version": "3.13.0"
  }
 },
 "nbformat": 4,
 "nbformat_minor": 5
}

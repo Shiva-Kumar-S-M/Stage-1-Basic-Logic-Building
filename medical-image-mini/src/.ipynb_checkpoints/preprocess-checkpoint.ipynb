{
 "cells": [
  {
   "cell_type": "code",
   "execution_count": null,
   "id": "df2b9d3b-ba28-4e0f-af0a-1641fdc1bd41",
   "metadata": {},
   "outputs": [],
   "source": [
    "import os\n",
    "import cv2\n",
    "import numpy as np\n",
    "from tensorflow.keras.preprocessing.image import ImageDataGenerator\n",
    "\n",
    "def load_data(train_dir, test_dir, img_size=(224, 224), batch_size=32):\n",
    "    datagen = ImageDataGenerator(rescale=1./255, \n",
    "                                 shear_range=0.2, \n",
    "                                 zoom_range=0.2, \n",
    "                                 horizontal_flip=True)\n",
    "\n",
    "    train_set = datagen.flow_from_directory(train_dir,\n",
    "                                           target_size=img_size,\n",
    "                                           batch_size=batch_size,\n",
    "                                           class_mode='binary')\n",
    "\n",
    "    test_set = datagen.flow_from_directory(test_dir,\n",
    "                                          target_size=img_size,\n",
    "                                          batch_size=batch_size,\n",
    "                                          class_mode='binary')\n",
    "\n",
    "    return train_set, test_set\n"
   ]
  },
  {
   "cell_type": "code",
   "execution_count": null,
   "id": "f010bddf-7242-4ee7-9fcc-a48264171bc2",
   "metadata": {},
   "outputs": [],
   "source": []
  }
 ],
 "metadata": {
  "kernelspec": {
   "display_name": "Python 3 (ipykernel)",
   "language": "python",
   "name": "python3"
  },
  "language_info": {
   "codemirror_mode": {
    "name": "ipython",
    "version": 3
   },
   "file_extension": ".py",
   "mimetype": "text/x-python",
   "name": "python",
   "nbconvert_exporter": "python",
   "pygments_lexer": "ipython3",
   "version": "3.13.0"
  }
 },
 "nbformat": 4,
 "nbformat_minor": 5
}

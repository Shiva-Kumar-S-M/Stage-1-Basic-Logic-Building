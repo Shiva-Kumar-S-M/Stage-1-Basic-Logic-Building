{
 "cells": [
  {
   "cell_type": "code",
   "execution_count": null,
   "id": "cd54a9cc-4dcc-4969-a91e-b0048979aa3e",
   "metadata": {},
   "outputs": [],
   "source": [
    "import tensorflow as tf\n",
    "from tensorflow.keras.applications import DenseNet121\n",
    "from tensorflow.keras.layers import Dense, GlobalAveragePooling2D, Dropout\n",
    "from tensorflow.keras.models import Model\n",
    "from preprocess import load_data\n",
    "\n",
    "train_dir = \"data/chest_xray/train\"\n",
    "test_dir = \"data/chest_xray/test\"\n",
    "train_set, test_set = load_data(train_dir, test_dir)\n",
    "\n",
    "base_model = DenseNet121(weights='imagenet', include_top=False, input_shape=(224,224,3))\n",
    "x = GlobalAveragePooling2D()(base_model.output)\n",
    "x = Dense(256, activation='relu')(x)\n",
    "x = Dropout(0.3)(x)\n",
    "output = Dense(1, activation='sigmoid')(x)\n",
    "\n",
    "model = Model(inputs=base_model.input, outputs=output)\n",
    "\n",
    "model.compile(optimizer='adam', loss='binary_crossentropy', metrics=['accuracy'])\n",
    "\n",
    "history = model.fit(train_set, epochs=5, validation_data=test_set)\n",
    "\n",
    "model.save(\"models/medical_diagnosis.h5\")\n"
   ]
  },
  {
   "cell_type": "code",
   "execution_count": null,
   "id": "ef93a88d-3a77-45a3-bda5-6bc87224002c",
   "metadata": {},
   "outputs": [],
   "source": []
  }
 ],
 "metadata": {
  "kernelspec": {
   "display_name": "Python 3 (ipykernel)",
   "language": "python",
   "name": "python3"
  },
  "language_info": {
   "codemirror_mode": {
    "name": "ipython",
    "version": 3
   },
   "file_extension": ".py",
   "mimetype": "text/x-python",
   "name": "python",
   "nbconvert_exporter": "python",
   "pygments_lexer": "ipython3",
   "version": "3.13.0"
  }
 },
 "nbformat": 4,
 "nbformat_minor": 5
}

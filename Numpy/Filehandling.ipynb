{
 "cells": [
  {
   "cell_type": "code",
   "execution_count": 9,
   "id": "d7ceb6dc-8264-4e6a-9381-30b6bcf542b9",
   "metadata": {},
   "outputs": [
    {
     "name": "stdout",
     "output_type": "stream",
     "text": [
      "Learn the lesson: Once the words are out, you cannot take them back. Keep them under control. Be particularly careful with sarcasm: The momentary satisfaction you gain with your biting words will be outweighed by the price you pay.\n"
     ]
    }
   ],
   "source": [
    "#file handling\n",
    "\n",
    "f=open(\"filehandling.txt\")\n",
    "print(f.read())"
   ]
  },
  {
   "cell_type": "code",
   "execution_count": 11,
   "id": "b507a39c-14be-442e-8ff8-bcc5ea0724b6",
   "metadata": {},
   "outputs": [
    {
     "name": "stdout",
     "output_type": "stream",
     "text": [
      "Learn the lesson: Once the words are out, you cannot take them back. Keep them under control. Be particularly careful with sarcasm: The momentary satisfaction you gain with your biting words will be outweighed by the price you pay.\n"
     ]
    }
   ],
   "source": [
    "f=open(\"filehandling.txt\")\n",
    "print(f.readline())"
   ]
  },
  {
   "cell_type": "code",
   "execution_count": 1,
   "id": "6188e49e-5a93-4969-8816-4b80edeadba4",
   "metadata": {},
   "outputs": [
    {
     "name": "stdout",
     "output_type": "stream",
     "text": [
      "Learn the lesson: Once the words are out, you cannot take them back. Keep them under control. Be particularly careful with sarcasm: The momentary satisfaction you gain with your biting words will be outweighed by the price you pay.\n"
     ]
    }
   ],
   "source": [
    "with open(\"filehandling.txt\") as f:\n",
    "    print(f.read())"
   ]
  },
  {
   "cell_type": "code",
   "execution_count": 3,
   "id": "ded7f076-593f-4783-b7bd-676f30ad1368",
   "metadata": {},
   "outputs": [
    {
     "name": "stdout",
     "output_type": "stream",
     "text": [
      "Learn the lesson: Once the words are out, you cannot take them back. Keep them under control. Be particularly careful with sarcasm: The momentary satisfaction you gain with your biting words will be outweighed by the price you pay.\n"
     ]
    }
   ],
   "source": [
    "with open(\"filehandling.txt\") as f:\n",
    "    for x in f:\n",
    "        print(x)"
   ]
  },
  {
   "cell_type": "code",
   "execution_count": 1,
   "id": "e1f4bb55-5839-48d9-8d70-15639eac0e4e",
   "metadata": {},
   "outputs": [
    {
     "name": "stdout",
     "output_type": "stream",
     "text": [
      "Learn the lesson: Once the words are out, you cannot take them back. Keep them under control. Be particularly careful with sarcasm: The momentary satisfaction you gain with your biting words will be outweighed by the price you pay.\n"
     ]
    }
   ],
   "source": [
    "with open(\"filehandling.txt\") as f:\n",
    "    for x in f:\n",
    "        print(x)\n"
   ]
  },
  {
   "cell_type": "code",
   "execution_count": 10,
   "id": "46a5bff2-9f6e-4cd0-8d1d-54ae5a9b809b",
   "metadata": {},
   "outputs": [
    {
     "name": "stdout",
     "output_type": "stream",
     "text": [
      "Learn the lesson: Once the words are out, you cannot take them back. Keep them under control. Be particularly careful with sarcasm: The momentary satisfaction you gain with your biting words will be outweighed by the price you pay.Now i have appended thisNow i have appended thisNow i have appended thisNow i have appended thisNow i have appended thisNow i have appended thisNow i have appended thisNow i have appended thisNow i have appended this\n",
      "None\n"
     ]
    }
   ],
   "source": [
    "with open(\"filehandling.txt\",\"a\") as f:\n",
    "    f.write(\"Now i have appended this\")\n",
    "with open(\"filehandling.txt\") as f:\n",
    "    print(f.read())\n",
    "    print(f.close())"
   ]
  },
  {
   "cell_type": "code",
   "execution_count": 12,
   "id": "e1bd276e-14a4-4a26-a2f8-2b5469a5ff2c",
   "metadata": {},
   "outputs": [
    {
     "name": "stdout",
     "output_type": "stream",
     "text": [
      "Now I have overwritten the file\n",
      "None\n"
     ]
    }
   ],
   "source": [
    "with open(\"filehandling.txt\",\"w\") as f:\n",
    "    f.write(\"Now I have overwritten the file\")\n",
    "with open(\"filehandling.txt\") as f:\n",
    "    print(f.read())\n",
    "    print(f.close())"
   ]
  },
  {
   "cell_type": "code",
   "execution_count": 14,
   "id": "27e85a02-5580-4937-913d-d601c70c8e77",
   "metadata": {},
   "outputs": [],
   "source": [
    "f=open(\"filehandling.txt\")\n",
    "f.read()\n",
    "# f.close()"
   ]
  },
  {
   "cell_type": "code",
   "execution_count": null,
   "id": "8597bd5e-cefc-4201-a138-8144a81565b7",
   "metadata": {},
   "outputs": [],
   "source": [
    "a=open(\"filehandling.txt\")\n",
    "print(a.read())\n"
   ]
  },
  {
   "cell_type": "code",
   "execution_count": 16,
   "id": "03aa7420",
   "metadata": {},
   "outputs": [
    {
     "name": "stdout",
     "output_type": "stream",
     "text": [
      "Now I have overwritten the fileNow I am typing from vscode\n"
     ]
    }
   ],
   "source": [
    "with open(\"filehandling.txt\",\"a\") as a:\n",
    "    a.write(\"Now I am typing from vscode\")\n",
    "\n",
    "with open(\"filehandling.txt\") as a:\n",
    "    print(a.read())"
   ]
  },
  {
   "cell_type": "code",
   "execution_count": null,
   "id": "a1b5a764-173d-4e5d-9058-fa46d97bbe95",
   "metadata": {},
   "outputs": [],
   "source": []
  }
 ],
 "metadata": {
  "kernelspec": {
   "display_name": "Python 3 (ipykernel)",
   "language": "python",
   "name": "python3"
  },
  "language_info": {
   "codemirror_mode": {
    "name": "ipython",
    "version": 3
   },
   "file_extension": ".py",
   "mimetype": "text/x-python",
   "name": "python",
   "nbconvert_exporter": "python",
   "pygments_lexer": "ipython3",
   "version": "3.13.0"
  }
 },
 "nbformat": 4,
 "nbformat_minor": 5
}

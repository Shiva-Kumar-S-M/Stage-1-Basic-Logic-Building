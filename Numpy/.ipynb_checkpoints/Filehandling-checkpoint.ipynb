{
 "cells": [
  {
   "cell_type": "code",
   "execution_count": 9,
   "id": "d7ceb6dc-8264-4e6a-9381-30b6bcf542b9",
   "metadata": {},
   "outputs": [
    {
     "name": "stdout",
     "output_type": "stream",
     "text": [
      "Learn the lesson: Once the words are out, you cannot take them back. Keep them under control. Be particularly careful with sarcasm: The momentary satisfaction you gain with your biting words will be outweighed by the price you pay.\n"
     ]
    }
   ],
   "source": [
    "#file handling\n",
    "\n",
    "f=open(\"filehandling.txt\")\n",
    "print(f.read())"
   ]
  },
  {
   "cell_type": "code",
   "execution_count": 11,
   "id": "b507a39c-14be-442e-8ff8-bcc5ea0724b6",
   "metadata": {},
   "outputs": [
    {
     "name": "stdout",
     "output_type": "stream",
     "text": [
      "Learn the lesson: Once the words are out, you cannot take them back. Keep them under control. Be particularly careful with sarcasm: The momentary satisfaction you gain with your biting words will be outweighed by the price you pay.\n"
     ]
    }
   ],
   "source": [
    "f=open(\"filehandling.txt\")\n",
    "print(f.readline())"
   ]
  },
  {
   "cell_type": "code",
   "execution_count": null,
   "id": "6188e49e-5a93-4969-8816-4b80edeadba4",
   "metadata": {},
   "outputs": [],
   "source": [
    "with open "
   ]
  }
 ],
 "metadata": {
  "kernelspec": {
   "display_name": "Python 3 (ipykernel)",
   "language": "python",
   "name": "python3"
  },
  "language_info": {
   "codemirror_mode": {
    "name": "ipython",
    "version": 3
   },
   "file_extension": ".py",
   "mimetype": "text/x-python",
   "name": "python",
   "nbconvert_exporter": "python",
   "pygments_lexer": "ipython3",
   "version": "3.13.0"
  }
 },
 "nbformat": 4,
 "nbformat_minor": 5
}
